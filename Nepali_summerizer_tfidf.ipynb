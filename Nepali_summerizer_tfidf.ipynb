{
  "nbformat": 4,
  "nbformat_minor": 0,
  "metadata": {
    "colab": {
      "name": "Nepali summerizer_tfidf.ipynb",
      "version": "0.3.2",
      "provenance": [],
      "include_colab_link": true
    },
    "kernelspec": {
      "name": "python3",
      "display_name": "Python 3"
    },
    "accelerator": "GPU"
  },
  "cells": [
    {
      "cell_type": "markdown",
      "metadata": {
        "id": "view-in-github",
        "colab_type": "text"
      },
      "source": [
        "<a href=\"https://colab.research.google.com/github/sushil79g/Nepali_text_summarizer/blob/master/Nepali_summerizer_tfidf.ipynb\" target=\"_parent\"><img src=\"https://colab.research.google.com/assets/colab-badge.svg\" alt=\"Open In Colab\"/></a>"
      ]
    },
    {
      "cell_type": "code",
      "metadata": {
        "id": "6TmHl9SAx5HX",
        "colab_type": "code",
        "outputId": "9d69bd77-fda0-42cf-e806-716482baf759",
        "colab": {
          "base_uri": "https://localhost:8080/",
          "height": 123
        }
      },
      "source": [
        "#if you are using colab\n",
        "!git clone https://github.com/sushil79g/Nepali_text_summerizer\n",
        "from Nepali_text_summerizer.loadembedding import load_vector"
      ],
      "execution_count": 1,
      "outputs": [
        {
          "output_type": "stream",
          "text": [
            "Cloning into 'Nepali_text_summerizer'...\n",
            "remote: Enumerating objects: 29, done.\u001b[K\n",
            "remote: Counting objects: 100% (29/29), done.\u001b[K\n",
            "remote: Compressing objects: 100% (27/27), done.\u001b[K\n",
            "remote: Total 29 (delta 13), reused 0 (delta 0), pack-reused 0\u001b[K\n",
            "Unpacking objects: 100% (29/29), done.\n"
          ],
          "name": "stdout"
        }
      ]
    },
    {
      "cell_type": "code",
      "metadata": {
        "id": "Tsid1yScyNK5",
        "colab_type": "code",
        "colab": {}
      },
      "source": [
        "#if you are at local\n",
        "# from loadembedding import load_vector"
      ],
      "execution_count": 0,
      "outputs": []
    },
    {
      "cell_type": "code",
      "metadata": {
        "id": "CJXphV8k0QJz",
        "colab_type": "code",
        "outputId": "b44be143-2c35-47ef-df0a-f572eabf4b1d",
        "colab": {
          "base_uri": "https://localhost:8080/",
          "height": 161
        }
      },
      "source": [
        "word_vec = load_vector()"
      ],
      "execution_count": 2,
      "outputs": [
        {
          "output_type": "stream",
          "text": [
            "Go to this URL in a browser: https://accounts.google.com/o/oauth2/auth?client_id=947318989803-6bn6qk8qdgf4n4g3pfee6491hc0brc4i.apps.googleusercontent.com&redirect_uri=urn%3Aietf%3Awg%3Aoauth%3A2.0%3Aoob&scope=email%20https%3A%2F%2Fwww.googleapis.com%2Fauth%2Fdocs.test%20https%3A%2F%2Fwww.googleapis.com%2Fauth%2Fdrive%20https%3A%2F%2Fwww.googleapis.com%2Fauth%2Fdrive.photos.readonly%20https%3A%2F%2Fwww.googleapis.com%2Fauth%2Fpeopleapi.readonly&response_type=code\n",
            "\n",
            "Enter your authorization code:\n",
            "··········\n",
            "Mounted at /content/drive\n"
          ],
          "name": "stdout"
        },
        {
          "output_type": "stream",
          "text": [
            "/usr/local/lib/python3.6/dist-packages/smart_open/smart_open_lib.py:398: UserWarning: This function is deprecated, use smart_open.open instead. See the migration notes for details: https://github.com/RaRe-Technologies/smart_open/blob/master/README.rst#migrating-to-the-new-open-function\n",
            "  'See the migration notes for details: %s' % _MIGRATION_NOTES_URL\n"
          ],
          "name": "stderr"
        }
      ]
    },
    {
      "cell_type": "code",
      "metadata": {
        "id": "cgHaiNwQBugZ",
        "colab_type": "code",
        "colab": {}
      },
      "source": [
        "import string\n",
        "def preprocess(text):\n",
        "    sentences = text.split(u\"।\")\n",
        "#     abc = text.translate(str.maketrans('', '', string.punctuation))\n",
        "    sentences = [sentence.translate(str.maketrans('', '', string.punctuation)) for sentence in sentences]\n",
        "    return sentences "
      ],
      "execution_count": 0,
      "outputs": []
    },
    {
      "cell_type": "code",
      "metadata": {
        "id": "VJiZQKoeXWZT",
        "colab_type": "code",
        "outputId": "f1a14633-b95e-4805-8c1a-d8cc8b9023e4",
        "colab": {
          "base_uri": "https://localhost:8080/",
          "height": 1000
        }
      },
      "source": [
        "word_vec['याद']"
      ],
      "execution_count": 4,
      "outputs": [
        {
          "output_type": "execute_result",
          "data": {
            "text/plain": [
              "array([ 1.59461051e-01, -5.85965931e-01,  3.78590047e-01, -4.74045545e-01,\n",
              "        9.43699852e-02,  8.82810473e-01,  8.47471714e-01,  2.71366894e-01,\n",
              "       -2.91820467e-01,  5.16441107e-01, -3.08772981e-01, -2.16735333e-01,\n",
              "       -2.68063605e-01, -2.66613662e-01, -4.27117199e-01, -9.15338635e-01,\n",
              "       -6.45890951e-01,  1.69385195e-01,  1.89498529e-01,  1.03605795e+00,\n",
              "       -1.43938050e-01,  2.56531447e-01, -3.53469521e-01,  2.65364021e-01,\n",
              "        3.85109991e-01,  3.01573038e-01,  7.09220588e-01, -6.60610273e-02,\n",
              "        6.79583371e-01, -1.09058753e-01,  2.95875072e-01, -8.73443559e-02,\n",
              "        1.30954489e-01,  4.19844911e-02,  4.76874322e-01,  5.39385259e-01,\n",
              "        5.25668502e-01, -6.92974627e-02, -9.60046947e-02,  3.30410570e-01,\n",
              "       -6.32967889e-01, -5.90312257e-02, -6.23273611e-01,  2.60242343e-01,\n",
              "        5.40041029e-01,  2.43316591e-01,  2.72388130e-01,  4.72497255e-01,\n",
              "       -1.95385918e-01, -8.09923261e-02, -8.45567584e-01, -1.58558071e-01,\n",
              "       -7.79802799e-01, -6.15156651e-01,  4.17703003e-01,  3.60298634e-01,\n",
              "        4.94670838e-01, -6.18113577e-01,  5.89784741e-01, -4.23489660e-01,\n",
              "       -2.35004574e-01, -3.24162990e-01,  8.12768519e-01,  9.77103293e-01,\n",
              "       -7.69542098e-01,  3.07259947e-01,  5.54588616e-01, -5.24480820e-01,\n",
              "        3.01152337e-02, -4.21698153e-01,  4.38564152e-01, -4.39485013e-02,\n",
              "        1.90502167e-01,  5.44225752e-01,  4.36203033e-01, -3.58864218e-01,\n",
              "        5.97197831e-01, -7.42577612e-01, -1.15443671e+00, -3.05345207e-01,\n",
              "        2.00740963e-01, -1.83676749e-01,  1.45319492e-01,  1.34001389e-01,\n",
              "        9.37488496e-01, -3.21759939e-01, -5.75332224e-01,  3.12225148e-02,\n",
              "       -4.48100716e-01, -3.16603959e-01,  4.71743196e-01,  3.88532043e-01,\n",
              "       -7.24068463e-01, -2.80958176e-01, -7.44101048e-01, -4.71348941e-01,\n",
              "       -7.12384403e-01, -9.50299874e-02,  4.85088080e-01, -7.06989944e-01,\n",
              "        1.22755241e+00, -5.11732399e-01,  1.08441513e-03, -3.77368987e-01,\n",
              "       -1.51639640e-01,  1.57188833e-01, -1.08151615e+00, -4.75195318e-01,\n",
              "        1.40749559e-01, -1.31626993e-01, -4.15687524e-02, -1.09976435e+00,\n",
              "        2.50465512e-01, -3.41104120e-01,  1.12168275e-01,  1.46743953e-01,\n",
              "       -4.88778383e-01,  4.36180905e-02, -2.79792696e-01, -4.60719824e-01,\n",
              "        4.64173518e-02,  1.06845880e+00,  7.76266217e-01, -7.82528222e-01,\n",
              "        5.05148232e-01, -5.71259737e-01, -3.74574721e-01, -1.64314568e-01,\n",
              "        6.20163642e-02, -3.39400530e-01,  2.45324731e-01,  6.36981666e-01,\n",
              "        4.08959001e-01,  3.37362826e-01, -3.63428235e-01, -6.75552726e-01,\n",
              "       -4.21020150e-01,  1.28566828e-02, -7.01675534e-01,  1.59284249e-01,\n",
              "        6.20213151e-01,  2.62600631e-01,  1.88172653e-01, -1.42974782e+00,\n",
              "       -3.49550366e-01,  5.09363949e-01,  1.48249164e-01,  3.88326526e-01,\n",
              "       -4.62727427e-01,  9.54593956e-01,  3.02944094e-01, -3.21500450e-01,\n",
              "        5.59798717e-01, -7.76815534e-01,  7.36742496e-01,  1.30656157e-02,\n",
              "        1.22847669e-01, -3.26246291e-01,  2.60519594e-01, -1.54445291e-01,\n",
              "       -5.13903081e-01, -3.29412930e-02,  3.18751857e-02, -5.99646628e-01,\n",
              "        2.11118847e-01, -3.54321659e-01, -6.67540789e-01, -2.04901382e-01,\n",
              "        5.21636084e-02,  7.39594251e-02,  1.22800551e-01, -7.50885844e-01,\n",
              "       -1.14609611e+00, -2.62414932e-01,  5.39442837e-01, -1.27574682e-01,\n",
              "       -2.38642022e-01,  4.65670899e-02,  1.65994930e+00,  6.39968142e-02,\n",
              "        2.21579894e-01,  6.46621644e-01, -2.63157010e-01,  3.83452147e-01,\n",
              "       -4.73296791e-01,  8.00371915e-02,  6.17488623e-01,  1.42921209e-01,\n",
              "       -2.42616490e-01,  3.41954708e-01, -4.22103643e-01,  6.20532513e-01,\n",
              "       -2.96189874e-01, -1.15583730e+00, -4.31312293e-01,  1.25164792e-01,\n",
              "       -1.44954816e-01, -1.26681119e-01,  3.41225833e-01, -6.36318028e-01,\n",
              "        2.24956065e-01, -6.68306231e-01,  5.57966650e-01,  1.23727810e+00,\n",
              "        1.30623847e-01,  3.27431768e-01,  2.71754771e-01, -9.15278375e-01,\n",
              "        2.85825580e-01, -4.00179565e-01, -7.42726266e-01, -6.12736382e-02,\n",
              "       -5.29046714e-01,  1.21691078e-01, -1.66748121e-01, -2.50165164e-01,\n",
              "       -1.07498839e-01,  9.50032830e-01, -5.92910759e-02,  3.42230886e-01,\n",
              "       -1.85392201e-01, -1.56800404e-01, -1.05177850e-01, -2.57996053e-01,\n",
              "        4.63417679e-01,  1.42656520e-01, -7.94569731e-01, -3.78395945e-01,\n",
              "        3.38335574e-01, -6.18895352e-01, -3.78379494e-01,  6.64530218e-01,\n",
              "        5.07518768e-01,  2.79769391e-01,  1.96463013e+00, -1.94297805e-01,\n",
              "       -6.94395661e-01, -2.66163737e-01, -8.70967269e-01, -1.97074741e-01,\n",
              "       -2.51972347e-01, -4.66225564e-01,  3.73884976e-01,  6.49847910e-02,\n",
              "        3.34306620e-02, -1.17382528e-02, -5.20046473e-01, -2.79363096e-01,\n",
              "        6.70226812e-01,  5.91783583e-01,  6.41924500e-01, -7.59068012e-01,\n",
              "        2.49160249e-02, -4.64362605e-03, -6.07081167e-02, -1.59828797e-01,\n",
              "       -2.95904070e-01, -6.19709551e-01,  7.03859329e-01,  8.06628168e-02,\n",
              "        4.36120242e-01, -2.24325746e-01,  6.05270922e-01,  2.39034817e-01,\n",
              "        5.51173508e-01, -4.73968118e-01, -1.14569461e+00,  1.93076134e-01,\n",
              "        1.17445707e+00, -1.36351869e-01,  9.72963274e-02,  3.30635272e-02,\n",
              "        2.39152476e-01,  3.72845009e-02,  3.98077011e-01, -1.77380696e-01,\n",
              "       -1.08370893e-01,  8.28148603e-01, -1.82198390e-01,  1.37364641e-01,\n",
              "        3.34645391e-01,  4.06443685e-01, -1.21131465e-01, -3.82442892e-01,\n",
              "       -3.12044948e-01,  6.74726307e-01,  3.89432430e-01,  8.69260252e-01,\n",
              "       -8.19373250e-01,  4.52807620e-02, -5.78472435e-01,  4.46760535e-01,\n",
              "       -2.22492307e-01,  8.04199874e-01,  1.45751819e-01, -3.79914045e-02,\n",
              "        7.25641847e-01, -4.14807051e-01, -3.78528625e-01,  1.85342371e-01,\n",
              "        5.18459141e-01,  1.21698928e+00,  2.67325580e-01, -2.70274609e-01,\n",
              "        3.56366098e-01,  7.52867013e-02, -1.47836864e-01,  3.46184000e-02,\n",
              "        1.34902090e-01, -8.45310837e-02, -2.06797510e-01, -1.48516223e-01,\n",
              "        1.96868107e-01, -5.29823363e-01, -3.30404758e-01, -3.85061711e-01,\n",
              "        2.52990872e-01,  7.50931948e-02,  6.20480001e-01, -5.36484480e-01,\n",
              "       -1.85504064e-01,  2.76857227e-01, -6.29066288e-01,  1.39813811e-01,\n",
              "        2.54086167e-01, -1.38577759e-01,  5.69311500e-01, -3.03627290e-02,\n",
              "       -2.82758683e-01, -9.08527076e-01, -3.49496126e-01,  5.65222204e-01,\n",
              "        8.47311020e-01,  5.08313537e-01,  5.43414295e-01,  6.29930973e-01,\n",
              "       -4.92410094e-01, -1.39071718e-01,  9.87601951e-02, -3.95022392e-01,\n",
              "       -3.10303450e-01, -3.63474667e-01,  1.14692581e+00,  5.74072659e-01,\n",
              "       -2.20246464e-02,  1.36067286e-01, -3.66641849e-01, -2.61312664e-01,\n",
              "        2.54324257e-01,  4.49541733e-02, -2.97776580e-01,  2.01224864e-01,\n",
              "        2.13856131e-01,  4.88326028e-02,  3.93778443e-01,  3.66988897e-01,\n",
              "        1.53511137e-01,  1.45178214e-01, -8.12887847e-01, -1.86133444e-01,\n",
              "       -1.94163293e-01, -3.63409758e-01, -4.44091111e-01, -4.34714407e-02,\n",
              "       -3.74017000e-01, -3.90925258e-01,  1.10459469e-01,  5.72556928e-02,\n",
              "        2.91590691e-01,  1.64084256e+00,  9.07207951e-02,  7.09355652e-01,\n",
              "       -1.13363311e-01,  6.97173059e-01,  2.26605162e-01, -4.94034618e-01,\n",
              "        6.71685517e-01, -1.63149536e-02, -5.96845806e-01,  5.06787479e-01,\n",
              "       -1.42994180e-01,  2.02254042e-01, -4.19212878e-01,  3.65346164e-01,\n",
              "        3.50578994e-01, -3.26654390e-02,  1.99724883e-01, -2.34116733e-01,\n",
              "        1.10764968e+00, -6.38711631e-01, -7.45362863e-02, -7.49742091e-01,\n",
              "       -4.33288753e-01, -5.93067169e-01,  1.14230819e-01,  5.12415990e-02,\n",
              "        4.09905165e-01,  8.34953561e-02, -4.30823684e-01, -1.26197368e-01],\n",
              "      dtype=float32)"
            ]
          },
          "metadata": {
            "tags": []
          },
          "execution_count": 4
        }
      ]
    },
    {
      "cell_type": "code",
      "metadata": {
        "id": "56C1hi5U3lKO",
        "colab_type": "code",
        "outputId": "95e7b8c7-0e53-4228-d874-56cdaf6e199a",
        "colab": {
          "base_uri": "https://localhost:8080/",
          "height": 34
        }
      },
      "source": [
        "# (list(word_vec.vocab)) सिद्धान्त\n",
        "word_vec.vector_size"
      ],
      "execution_count": 5,
      "outputs": [
        {
          "output_type": "execute_result",
          "data": {
            "text/plain": [
              "400"
            ]
          },
          "metadata": {
            "tags": []
          },
          "execution_count": 5
        }
      ]
    },
    {
      "cell_type": "code",
      "metadata": {
        "id": "jNZ7qcvA5cfB",
        "colab_type": "code",
        "colab": {}
      },
      "source": [
        "#using TFIDF"
      ],
      "execution_count": 0,
      "outputs": []
    },
    {
      "cell_type": "code",
      "metadata": {
        "id": "_ccVDoJc5sIZ",
        "colab_type": "code",
        "colab": {}
      },
      "source": [
        "from sklearn.feature_extraction.text import TfidfVectorizer\n",
        "import numpy as np\n",
        "def generate_centroif_tfidf(sentence):\n",
        "    tf = TfidfVectorizer()\n",
        "    tfidf = tf.fit_transform(sentence).toarray().sum(0)\n",
        "    tfidf = np.divide(tfidf, tfidf.max())\n",
        "    words = tf.get_feature_names()\n",
        "    similar_term = []\n",
        "    for i in range(len(tfidf)):\n",
        "        if words[i] in vocab:\n",
        "            if tfidf[i] >= 0.2:\n",
        "                similar_term.append(words[i])\n",
        "    res = [word_vec[term] for term in similar_term]\n",
        "    return sum(res)/len(res)"
      ],
      "execution_count": 0,
      "outputs": []
    },
    {
      "cell_type": "code",
      "metadata": {
        "id": "_bBvuFO32giK",
        "colab_type": "code",
        "colab": {}
      },
      "source": [
        "vocab = word_vec.vocab\n",
        "def sentence_vectorizer(sentence,size,word_vec,vocab):\n",
        "    dic = {}\n",
        "    for i in range(len(sentence)):\n",
        "        sum_vec = np.zeros(size)\n",
        "        try:\n",
        "            sentence_word = sentence[i].split()\n",
        "        except:\n",
        "            pass\n",
        "        sentence = [word for word in sentence_word if word in vocab]\n",
        "        if sentence:\n",
        "            for word in sentence:\n",
        "                word_vec_ = word_vec[word]\n",
        "                sum_vec = np.add(sum_vec, word_vec_)\n",
        "                \n",
        "            dic[i] = sum_vec/len(sentence)\n",
        "    return dic\n"
      ],
      "execution_count": 0,
      "outputs": []
    },
    {
      "cell_type": "code",
      "metadata": {
        "id": "Q1V3FqU8g9Gi",
        "colab_type": "code",
        "colab": {}
      },
      "source": [
        "def sentence_selection(centroid, sentences_dict, summary_length):\n",
        "    from scipy.spatial.distance import cosine\n",
        "    sentence_retriever = []\n",
        "    record = []\n",
        "    for sentence_id in sentences_dict:\n",
        "        vector = sentences_dict[sentence_id]\n",
        "        similarity = (1 - cosine(centroid, vector))\n",
        "        record.append((sentence_id, vector, similarity))\n",
        "\n",
        "    rank = list(reversed(sorted(record, key=lambda tup: tup[2])))\n",
        "    sentence_ids = []\n",
        "    summary_char_num = 0\n",
        "    stop = False\n",
        "    i = 0\n",
        "    text_length = sum([len(x) for x in sentence_retriever])\n",
        "\n",
        "    if summary_length < 1:\n",
        "        limit = int(text_length * float(summary_length))\n",
        "\n",
        "        while not stop and i < len(rank):\n",
        "            sentence_id = rank[i][0]\n",
        "            new_vector = sentences_dict[sentence_id]\n",
        "            sent_char_num = len(sentence_retriever[sentence_id])\n",
        "            redundancy = [sentences_dict[k] for k in sentence_ids\n",
        "                            if (1 - cosine(new_vector, sentences_dict[k]) > 0.95)]\n",
        "\n",
        "            if not redundancy:\n",
        "                summary_char_num += sent_char_num\n",
        "                sentence_ids.append(sentence_id)\n",
        "            i += 1\n",
        "\n",
        "            if summary_char_num > limit:\n",
        "                stop = True\n",
        "    else: \n",
        "        sentences_number = int(summary_length)\n",
        "        sentence_ids = rank[:sentences_number]\n",
        "        sentence_ids = map(lambda t: t[0], sentence_ids)\n",
        "\n",
        "    sentence_ids = sorted(sentence_ids)\n",
        "    \n",
        "    return sentence_ids"
      ],
      "execution_count": 0,
      "outputs": []
    },
    {
      "cell_type": "code",
      "metadata": {
        "id": "nqn8sYhLhBdu",
        "colab_type": "code",
        "colab": {}
      },
      "source": [
        "def summary(centroid_tfidf,sent,sent_dict,length):\n",
        "    ids = sentence_selection(centroid_tfidf,sent_dict,length)\n",
        "    whole_summary = []\n",
        "    for inde in ids:\n",
        "        whole_summary.append(sent[inde])\n",
        "    return '।'.join(whole_summary)\n"
      ],
      "execution_count": 0,
      "outputs": []
    },
    {
      "cell_type": "code",
      "metadata": {
        "id": "yH6Y_F788NGd",
        "colab_type": "code",
        "colab": {}
      },
      "source": [
        "sample_text = '''१७ साउन, काठमाडौं । स्थानीय राजनीतिकर्मी र स्वार्थ समूहको पेलाइका कारण चिनियाँ हुवाजिन कम्पनीले नेपालमा भित्र्याएको १४ अर्ब ४० करोड प्रत्यक्ष वैदेशिक लगानी संकटमा परेको छ । यही स्थिति जारी रहे सिमेन्ट उद्योगका लागि गरिएको सो लगानी फिर्ता लैजाने विषयमा समेत सो कम्पनीका अधिकारीहरु छलफलमा छन् ।चिनियाँ सरकारी स्वामित्वको कम्पनीले धादिङको बेनिघाट रोराङ गाउँपालिका-२ ताल्तीमा सिमेन्ट उद्योग निर्माणको काम गरिरहेको छ । तर, अनेक बहानामा काम प्रभावित भएपछि कम्पनी नेपालबाट फिर्ता हुन सक्ने अवस्था पैदा भएको स्रोतले बतायो । गत वर्ष असारमा प्रधानमन्त्री केपी शर्मा ओलीको चीन भ्रमणका क्रममा लगानी बोर्ड र हुवाजिनले सिमेन्ट उद्योगमा लगानी गर्ने सम्झौतामा हस्ताक्षर गरेका थिए ।कारखानासम्म जाने सडकको विषयमा सबैभन्दा ठूलो विवाद छ । शिलान्यास भएको ९ महिनामा उत्पादन थाल्ने लक्ष्य राखेको उद्योगले बेनीघाटबाट ११.५ किलोमिटर दुरीमा १२ मिटर चौडाइको सडक खन्न थालेको थियो । तर, यसमा छिमेकी गजुरी गाउँपालिकाका स्थानीयवासीले विरोध जनाए । कारखाना जाने बाटो र विद्युतसमेत आफ्नै गाउँबाट लैजानुपर्ने स्थानीयको माग छ । सोही गाउँपालिकाका प्रदेश सभा सांसद राजेन्द्र पाण्डेले असन्तुष्ट स्थानीयवासीको नेतृत्व गरेका छन् । गजुरीमा आयोजित एक कार्यक्रममा सांसद पाण्डेले सिमेन्ट उद्योगको डोजरमाथि आगो लगाइदिने सार्वजनिक भाषण गरेको बेनीघाट रोराङका स्थानीयले बताए । जबकी उद्योग शिलान्यासमा पाण्डे आफैं सहभागी थिए । उनै पाण्डे हालै स्थानीयवासीले बनाएको संघर्ष समितिको कार्यक्रममा सहभागी भएका थिए । यता, उद्योगले बनाइरहेको सडकले जैविक विविधता मासिएको तथा उद्योग सञ्चालनपछि वातावरण प्रदुषण फैलिने भन्दै एक संस्थाले विभिन्न निकायमा उजुरी गरेको छ । गजुरीका स्थानीय भूमि कंडेलकाे संयोजकत्वमा बनेको ‘वातावरण बचाउ अभियान’को उजुरीपछि वातावरण संरक्षणका क्षेत्रका कार्यरत विभिन्न संस्थाबाट स्थानीय सरकारलाई पत्र आएको बेनिघाट रोराङ गाउँपालिका-२ का वडा अध्यक्ष टंकबहादुर थापाले बताए । थापाका अनुसार वन मास्न नदिनू, खोला, कुलेसोमा सडक बनाउन नदिनू भन्ने खालका पत्रहरु वडामा आएका छन् । ओली गुटले धादिङमा पाण्डेलाई साइजमा राख्न मुख्यमन्त्रीको आश्वासनसहित प्रदेशसभामा पठाएर त्रिपाठीलाई प्रतिनिधिसभामा उम्मेदवार बनायो । त्यसयता पाण्डे समूह त्रिपाठी गुटविरुद्ध लागेको जनाकारहरु बताउँछन् । त्यसमाथि प्रदेश ३ को मुख्यमन्त्री बन्नबाट समेत पाण्डे बञ्चित गरिएपछि धादिङमा पाण्डेको राजनीतिक पकड त्रिपाठीतर्फ सरेको चर्चा व्यापक छ । प्रधानमन्त्री आफैंले भित्र्याएको चिनियाँ परियोजनामा त्रिपाठीले समन्वय गरिरहेका छन् भने व्यावसायी सुरज वैद्यले पनि १५ प्रतिशत लगानी गरेका छन् ।'''"
      ],
      "execution_count": 0,
      "outputs": []
    },
    {
      "cell_type": "code",
      "metadata": {
        "id": "-C8b3D8UmJpg",
        "colab_type": "code",
        "colab": {}
      },
      "source": [
        "def show_summary(sample_text,length_sentence_predict):\n",
        "    sent = preprocess(sample_text)\n",
        "    centroid_tfidf = generate_centroif_tfidf(sent)\n",
        "    size = word_vec.vector_size\n",
        "    sent_dict = sentence_vectorizer(sent,size,word_vec,vocab)\n",
        "    return summary(centroid_tfidf,sent,sent_dict,length_sentence_predict)"
      ],
      "execution_count": 0,
      "outputs": []
    },
    {
      "cell_type": "code",
      "metadata": {
        "id": "FMRqOOuyhEtE",
        "colab_type": "code",
        "outputId": "b84354fc-9065-4ab5-8492-9072bf7cceba",
        "colab": {
          "base_uri": "https://localhost:8080/",
          "height": 798
        }
      },
      "source": [
        "from pprint import pprint\n",
        "pprint('original')\n",
        "pprint(sample_text)\n",
        "print('\\n\\n')\n",
        "pprint('summerized')\n",
        "pprint(show_summary(sample_text,6))"
      ],
      "execution_count": 12,
      "outputs": [
        {
          "output_type": "stream",
          "text": [
            "'original'\n",
            "('१७ साउन, काठमाडौं । स्थानीय राजनीतिकर्मी र स्वार्थ समूहको पेलाइका कारण '\n",
            " 'चिनियाँ हुवाजिन कम्पनीले नेपालमा भित्र्याएको १४ अर्ब ४० करोड प्रत्यक्ष '\n",
            " 'वैदेशिक लगानी संकटमा परेको छ । यही स्थिति जारी रहे सिमेन्ट उद्योगका लागि '\n",
            " 'गरिएको सो लगानी फिर्ता लैजाने विषयमा समेत सो कम्पनीका अधिकारीहरु छलफलमा छन् '\n",
            " '।चिनियाँ सरकारी स्वामित्वको कम्पनीले धादिङको बेनिघाट रोराङ गाउँपालिका-२ '\n",
            " 'ताल्तीमा सिमेन्ट उद्योग निर्माणको काम गरिरहेको छ । तर, अनेक बहानामा काम '\n",
            " 'प्रभावित भएपछि कम्पनी नेपालबाट फिर्ता हुन सक्ने अवस्था पैदा भएको स्रोतले '\n",
            " 'बतायो । गत वर्ष असारमा प्रधानमन्त्री केपी शर्मा ओलीको चीन भ्रमणका क्रममा '\n",
            " 'लगानी बोर्ड र हुवाजिनले सिमेन्ट उद्योगमा लगानी गर्ने सम्झौतामा हस्ताक्षर '\n",
            " 'गरेका थिए ।कारखानासम्म जाने सडकको विषयमा सबैभन्दा ठूलो विवाद छ । शिलान्यास '\n",
            " 'भएको ९ महिनामा उत्पादन थाल्ने लक्ष्य राखेको उद्योगले बेनीघाटबाट ११.५ '\n",
            " 'किलोमिटर दुरीमा १२ मिटर चौडाइको सडक खन्न थालेको थियो । तर, यसमा छिमेकी गजुरी '\n",
            " 'गाउँपालिकाका स्थानीयवासीले विरोध जनाए । कारखाना जाने बाटो र विद्युतसमेत '\n",
            " 'आफ्नै गाउँबाट लैजानुपर्ने स्थानीयको माग छ । सोही गाउँपालिकाका प्रदेश सभा '\n",
            " 'सांसद राजेन्द्र पाण्डेले असन्तुष्ट स्थानीयवासीको नेतृत्व गरेका छन् । गजुरीमा '\n",
            " 'आयोजित एक कार्यक्रममा सांसद पाण्डेले सिमेन्ट उद्योगको डोजरमाथि आगो लगाइदिने '\n",
            " 'सार्वजनिक भाषण गरेको बेनीघाट रोराङका स्थानीयले बताए । जबकी उद्योग '\n",
            " 'शिलान्यासमा पाण्डे आफैं सहभागी थिए । उनै पाण्डे हालै स्थानीयवासीले बनाएको '\n",
            " 'संघर्ष समितिको कार्यक्रममा सहभागी भएका थिए । यता, उद्योगले बनाइरहेको सडकले '\n",
            " 'जैविक विविधता मासिएको तथा उद्योग सञ्चालनपछि वातावरण प्रदुषण फैलिने भन्दै एक '\n",
            " 'संस्थाले विभिन्न निकायमा उजुरी गरेको छ । गजुरीका स्थानीय भूमि कंडेलकाे '\n",
            " 'संयोजकत्वमा बनेको ‘वातावरण बचाउ अभियान’को उजुरीपछि वातावरण संरक्षणका '\n",
            " 'क्षेत्रका कार्यरत विभिन्न संस्थाबाट स्थानीय सरकारलाई पत्र आएको बेनिघाट रोराङ '\n",
            " 'गाउँपालिका-२ का वडा अध्यक्ष टंकबहादुर थापाले बताए । थापाका अनुसार वन मास्न '\n",
            " 'नदिनू, खोला, कुलेसोमा सडक बनाउन नदिनू भन्ने खालका पत्रहरु वडामा आएका छन् । '\n",
            " 'ओली गुटले धादिङमा पाण्डेलाई साइजमा राख्न मुख्यमन्त्रीको आश्वासनसहित '\n",
            " 'प्रदेशसभामा पठाएर त्रिपाठीलाई प्रतिनिधिसभामा उम्मेदवार बनायो । त्यसयता '\n",
            " 'पाण्डे समूह त्रिपाठी गुटविरुद्ध लागेको जनाकारहरु बताउँछन् । त्यसमाथि प्रदेश '\n",
            " '३ को मुख्यमन्त्री बन्नबाट समेत पाण्डे बञ्चित गरिएपछि धादिङमा पाण्डेको '\n",
            " 'राजनीतिक पकड त्रिपाठीतर्फ सरेको चर्चा व्यापक छ । प्रधानमन्त्री आफैंले '\n",
            " 'भित्र्याएको चिनियाँ परियोजनामा त्रिपाठीले समन्वय गरिरहेका छन् भने व्यावसायी '\n",
            " 'सुरज वैद्यले पनि १५ प्रतिशत लगानी गरेका छन् ।')\n",
            "\n",
            "\n",
            "\n",
            "'summerized'\n",
            "('१७ साउन काठमाडौं । ओली गुटले धादिङमा पाण्डेलाई साइजमा राख्न मुख्यमन्त्रीको '\n",
            " 'आश्वासनसहित प्रदेशसभामा पठाएर त्रिपाठीलाई प्रतिनिधिसभामा उम्मेदवार बनायो । '\n",
            " 'त्यसयता पाण्डे समूह त्रिपाठी गुटविरुद्ध लागेको जनाकारहरु बताउँछन् । त्यसमाथि '\n",
            " 'प्रदेश ३ को मुख्यमन्त्री बन्नबाट समेत पाण्डे बञ्चित गरिएपछि धादिङमा पाण्डेको '\n",
            " 'राजनीतिक पकड त्रिपाठीतर्फ सरेको चर्चा व्यापक छ । प्रधानमन्त्री आफैंले '\n",
            " 'भित्र्याएको चिनियाँ परियोजनामा त्रिपाठीले समन्वय गरिरहेका छन् भने व्यावसायी '\n",
            " 'सुरज वैद्यले पनि १५ प्रतिशत लगानी गरेका छन् ।')\n"
          ],
          "name": "stdout"
        }
      ]
    },
    {
      "cell_type": "code",
      "metadata": {
        "id": "xSuN0wv4jp8b",
        "colab_type": "code",
        "colab": {}
      },
      "source": [
        "from bs4 import BeautifulSoup\n",
        "import urllib\n",
        "import re\n",
        "from urllib.request import Request, urlopen\n",
        "def get_content(link):\n",
        "  req = Request(link, headers={'User-Agent': 'Mozilla/5.0'})\n",
        "  webpage = urlopen(req).read()\n",
        "  soup = BeautifulSoup(webpage)\n",
        "  text =''\n",
        "  for tex_ in soup.find_all(\"p\")[:-1]:\n",
        "    text = text + \" \" + tex_.getText()\n",
        "  return ''.join(text)\n",
        "# sample_text = get_content('https://www.onlinekhabar.com/2019/08/789991')\n",
        "# sample_text"
      ],
      "execution_count": 0,
      "outputs": []
    },
    {
      "cell_type": "code",
      "metadata": {
        "id": "fMiUJ-0_rBpw",
        "colab_type": "code",
        "colab": {
          "base_uri": "https://localhost:8080/",
          "height": 1000
        },
        "outputId": "fd15bb1f-278f-44e8-f6f1-ec07f4596867"
      },
      "source": [
        "!pip3 install news-please \n",
        "from newsplease import NewsPlease\n"
      ],
      "execution_count": 32,
      "outputs": [
        {
          "output_type": "stream",
          "text": [
            "Collecting news-please\n",
            "\u001b[?25l  Downloading https://files.pythonhosted.org/packages/6b/00/bc8861c450ae5a21cd7ae1b401369d776807cef307d58b1b5132ff313a1b/news-please-1.4.23.tar.gz (61kB)\n",
            "\u001b[K     |████████████████████████████████| 71kB 2.8MB/s \n",
            "\u001b[?25hCollecting Scrapy>=1.1.0 (from news-please)\n",
            "\u001b[?25l  Downloading https://files.pythonhosted.org/packages/29/4b/585e8e111ffb01466c59281f34febb13ad1a95d7fb3919fd57c33fc732a5/Scrapy-1.7.3-py2.py3-none-any.whl (234kB)\n",
            "\u001b[K     |████████████████████████████████| 235kB 8.0MB/s \n",
            "\u001b[?25hCollecting PyMySQL>=0.7.9 (from news-please)\n",
            "\u001b[?25l  Downloading https://files.pythonhosted.org/packages/ed/39/15045ae46f2a123019aa968dfcba0396c161c20f855f11dea6796bcaae95/PyMySQL-0.9.3-py2.py3-none-any.whl (47kB)\n",
            "\u001b[K     |████████████████████████████████| 51kB 23.5MB/s \n",
            "\u001b[?25hCollecting hjson>=1.5.8 (from news-please)\n",
            "\u001b[?25l  Downloading https://files.pythonhosted.org/packages/8a/92/6b6b85064f8a88cb3b31901d839e7b45c33e4ee450bb1b3cf0c226cca8ec/hjson-3.0.1.tar.gz (43kB)\n",
            "\u001b[K     |████████████████████████████████| 51kB 20.4MB/s \n",
            "\u001b[?25hCollecting elasticsearch>=2.4 (from news-please)\n",
            "\u001b[?25l  Downloading https://files.pythonhosted.org/packages/8e/3a/32d62f6d02d85cd1bed504ab8f766ec03bd5ce0b57521a7c6db234577db4/elasticsearch-7.0.3-py2.py3-none-any.whl (142kB)\n",
            "\u001b[K     |████████████████████████████████| 143kB 35.5MB/s \n",
            "\u001b[?25hRequirement already satisfied: beautifulsoup4>=4.3.2 in /usr/local/lib/python3.6/dist-packages (from news-please) (4.6.3)\n",
            "Collecting readability-lxml>=0.6.2 (from news-please)\n",
            "  Downloading https://files.pythonhosted.org/packages/af/a7/8ea52b2d3de4a95c3ed8255077618435546386e35af8969744c0fa82d0d6/readability-lxml-0.7.1.tar.gz\n",
            "Collecting langdetect>=1.0.7 (from news-please)\n",
            "\u001b[?25l  Downloading https://files.pythonhosted.org/packages/59/59/4bc44158a767a6d66de18c4136c8aa90491d56cc951c10b74dd1e13213c9/langdetect-1.0.7.zip (998kB)\n",
            "\u001b[K     |████████████████████████████████| 1.0MB 35.4MB/s \n",
            "\u001b[?25hRequirement already satisfied: python-dateutil>=2.4.0 in /usr/local/lib/python3.6/dist-packages (from news-please) (2.5.3)\n",
            "Requirement already satisfied: plac>=0.9.6 in /usr/local/lib/python3.6/dist-packages (from news-please) (0.9.6)\n",
            "Collecting dotmap>=1.2.17 (from news-please)\n",
            "  Downloading https://files.pythonhosted.org/packages/35/a6/0f88e89673285daf190891985ad8b57d1d70ec4ccaf2d53b692e25f52ad4/dotmap-1.3.8-py3-none-any.whl\n",
            "Collecting PyDispatcher>=2.0.5 (from news-please)\n",
            "  Downloading https://files.pythonhosted.org/packages/cd/37/39aca520918ce1935bea9c356bcbb7ed7e52ad4e31bff9b943dfc8e7115b/PyDispatcher-2.0.5.tar.gz\n",
            "Collecting warcio>=1.3.3 (from news-please)\n",
            "\u001b[?25l  Downloading https://files.pythonhosted.org/packages/90/c4/86bc02bc3bc33c34ab24e52af8a1c34eb6e03e7cd5b3904057ebcea311da/warcio-1.7.1-py2.py3-none-any.whl (41kB)\n",
            "\u001b[K     |████████████████████████████████| 51kB 21.1MB/s \n",
            "\u001b[?25hCollecting ago>=0.0.9 (from news-please)\n",
            "  Downloading https://files.pythonhosted.org/packages/f8/4e/976bd88566b0feec295873c3aa5a8712219edb2c07c7f6723c831e8840bd/ago-0.0.93.tar.gz\n",
            "Requirement already satisfied: six>=1.10.0 in /usr/local/lib/python3.6/dist-packages (from news-please) (1.12.0)\n",
            "Requirement already satisfied: lxml>=3.3.5 in /usr/local/lib/python3.6/dist-packages (from news-please) (4.2.6)\n",
            "Collecting awscli>=1.11.117 (from news-please)\n",
            "\u001b[?25l  Downloading https://files.pythonhosted.org/packages/7d/0a/590ce3b8ee9a4155af91987fe9f8cfaa9efead81ab7fd9e2386b2bf6210d/awscli-1.16.223-py2.py3-none-any.whl (1.9MB)\n",
            "\u001b[K     |████████████████████████████████| 1.9MB 34.8MB/s \n",
            "\u001b[?25hCollecting hurry.filesize>=0.9 (from news-please)\n",
            "  Downloading https://files.pythonhosted.org/packages/ee/5e/16e17bedcf54d5b618dc0771690deda77178e5c310402881c3d2d6c5f27c/hurry.filesize-0.9.tar.gz\n",
            "Requirement already satisfied: bs4 in /usr/local/lib/python3.6/dist-packages (from news-please) (0.0.1)\n",
            "Collecting newspaper3k (from news-please)\n",
            "\u001b[?25l  Downloading https://files.pythonhosted.org/packages/d7/b9/51afecb35bb61b188a4b44868001de348a0e8134b4dfa00ffc191567c4b9/newspaper3k-0.2.8-py3-none-any.whl (211kB)\n",
            "\u001b[K     |████████████████████████████████| 215kB 36.3MB/s \n",
            "\u001b[?25hCollecting Twisted>=13.1.0; python_version != \"3.4\" (from Scrapy>=1.1.0->news-please)\n",
            "\u001b[?25l  Downloading https://files.pythonhosted.org/packages/14/49/eb654da38b15285d1f594933eefff36ce03106356197dba28ee8f5721a79/Twisted-19.7.0-cp36-cp36m-manylinux1_x86_64.whl (3.1MB)\n",
            "\u001b[K     |████████████████████████████████| 3.1MB 29.3MB/s \n",
            "\u001b[?25hCollecting w3lib>=1.17.0 (from Scrapy>=1.1.0->news-please)\n",
            "  Downloading https://files.pythonhosted.org/packages/6a/45/1ba17c50a0bb16bd950c9c2b92ec60d40c8ebda9f3371ae4230c437120b6/w3lib-1.21.0-py2.py3-none-any.whl\n",
            "Collecting service-identity (from Scrapy>=1.1.0->news-please)\n",
            "  Downloading https://files.pythonhosted.org/packages/e9/7c/2195b890023e098f9618d43ebc337d83c8b38d414326685339eb024db2f6/service_identity-18.1.0-py2.py3-none-any.whl\n",
            "Collecting queuelib (from Scrapy>=1.1.0->news-please)\n",
            "  Downloading https://files.pythonhosted.org/packages/4c/85/ae64e9145f39dd6d14f8af3fa809a270ef3729f3b90b3c0cf5aa242ab0d4/queuelib-1.5.0-py2.py3-none-any.whl\n",
            "Collecting cssselect>=0.9 (from Scrapy>=1.1.0->news-please)\n",
            "  Downloading https://files.pythonhosted.org/packages/3b/d4/3b5c17f00cce85b9a1e6f91096e1cc8e8ede2e1be8e96b87ce1ed09e92c5/cssselect-1.1.0-py2.py3-none-any.whl\n",
            "Collecting parsel>=1.5 (from Scrapy>=1.1.0->news-please)\n",
            "  Downloading https://files.pythonhosted.org/packages/86/c8/fc5a2f9376066905dfcca334da2a25842aedfda142c0424722e7c497798b/parsel-1.5.2-py2.py3-none-any.whl\n",
            "Collecting pyOpenSSL (from Scrapy>=1.1.0->news-please)\n",
            "\u001b[?25l  Downloading https://files.pythonhosted.org/packages/01/c8/ceb170d81bd3941cbeb9940fc6cc2ef2ca4288d0ca8929ea4db5905d904d/pyOpenSSL-19.0.0-py2.py3-none-any.whl (53kB)\n",
            "\u001b[K     |████████████████████████████████| 61kB 20.3MB/s \n",
            "\u001b[?25hRequirement already satisfied: urllib3>=1.21.1 in /usr/local/lib/python3.6/dist-packages (from elasticsearch>=2.4->news-please) (1.24.3)\n",
            "Requirement already satisfied: chardet in /usr/local/lib/python3.6/dist-packages (from readability-lxml>=0.6.2->news-please) (3.0.4)\n",
            "Collecting colorama<=0.3.9,>=0.2.5 (from awscli>=1.11.117->news-please)\n",
            "  Downloading https://files.pythonhosted.org/packages/db/c8/7dcf9dbcb22429512708fe3a547f8b6101c0d02137acbd892505aee57adf/colorama-0.3.9-py2.py3-none-any.whl\n",
            "Collecting rsa<=3.5.0,>=3.1.2 (from awscli>=1.11.117->news-please)\n",
            "\u001b[?25l  Downloading https://files.pythonhosted.org/packages/e1/ae/baedc9cb175552e95f3395c43055a6a5e125ae4d48a1d7a924baca83e92e/rsa-3.4.2-py2.py3-none-any.whl (46kB)\n",
            "\u001b[K     |████████████████████████████████| 51kB 23.1MB/s \n",
            "\u001b[?25hRequirement already satisfied: s3transfer<0.3.0,>=0.2.0 in /usr/local/lib/python3.6/dist-packages (from awscli>=1.11.117->news-please) (0.2.1)\n",
            "Requirement already satisfied: docutils<0.16,>=0.10 in /usr/local/lib/python3.6/dist-packages (from awscli>=1.11.117->news-please) (0.14)\n",
            "Collecting botocore==1.12.213 (from awscli>=1.11.117->news-please)\n",
            "\u001b[?25l  Downloading https://files.pythonhosted.org/packages/c6/66/230d684b3a84fd32facaa41b40e0b1277043ab4a4bcebacfba42b79e94bb/botocore-1.12.213-py2.py3-none-any.whl (5.7MB)\n",
            "\u001b[K     |████████████████████████████████| 5.7MB 31.1MB/s \n",
            "\u001b[?25hRequirement already satisfied: PyYAML<=5.2,>=3.10; python_version != \"2.6\" in /usr/local/lib/python3.6/dist-packages (from awscli>=1.11.117->news-please) (3.13)\n",
            "Requirement already satisfied: setuptools in /usr/local/lib/python3.6/dist-packages (from hurry.filesize>=0.9->news-please) (41.1.0)\n",
            "Collecting tinysegmenter==0.3 (from newspaper3k->news-please)\n",
            "  Downloading https://files.pythonhosted.org/packages/17/82/86982e4b6d16e4febc79c2a1d68ee3b707e8a020c5d2bc4af8052d0f136a/tinysegmenter-0.3.tar.gz\n",
            "Collecting feedparser>=5.2.1 (from newspaper3k->news-please)\n",
            "\u001b[?25l  Downloading https://files.pythonhosted.org/packages/91/d8/7d37fec71ff7c9dbcdd80d2b48bcdd86d6af502156fc93846fb0102cb2c4/feedparser-5.2.1.tar.bz2 (192kB)\n",
            "\u001b[K     |████████████████████████████████| 194kB 38.8MB/s \n",
            "\u001b[?25hCollecting jieba3k>=0.35.1 (from newspaper3k->news-please)\n",
            "\u001b[?25l  Downloading https://files.pythonhosted.org/packages/a9/cb/2c8332bcdc14d33b0bedd18ae0a4981a069c3513e445120da3c3f23a8aaa/jieba3k-0.35.1.zip (7.4MB)\n",
            "\u001b[K     |████████████████████████████████| 7.4MB 21.5MB/s \n",
            "\u001b[?25hCollecting tldextract>=2.0.1 (from newspaper3k->news-please)\n",
            "\u001b[?25l  Downloading https://files.pythonhosted.org/packages/1e/90/18ac0e5340b6228c25cc8e79835c3811e7553b2b9ae87296dfeb62b7866d/tldextract-2.2.1-py2.py3-none-any.whl (48kB)\n",
            "\u001b[K     |████████████████████████████████| 51kB 17.2MB/s \n",
            "\u001b[?25hRequirement already satisfied: requests>=2.10.0 in /usr/local/lib/python3.6/dist-packages (from newspaper3k->news-please) (2.21.0)\n",
            "Collecting feedfinder2>=0.0.4 (from newspaper3k->news-please)\n",
            "  Downloading https://files.pythonhosted.org/packages/35/82/1251fefec3bb4b03fd966c7e7f7a41c9fc2bb00d823a34c13f847fd61406/feedfinder2-0.0.4.tar.gz\n",
            "Requirement already satisfied: Pillow>=3.3.0 in /usr/local/lib/python3.6/dist-packages (from newspaper3k->news-please) (4.3.0)\n",
            "Requirement already satisfied: nltk>=3.2.1 in /usr/local/lib/python3.6/dist-packages (from newspaper3k->news-please) (3.2.5)\n",
            "Collecting zope.interface>=4.4.2 (from Twisted>=13.1.0; python_version != \"3.4\"->Scrapy>=1.1.0->news-please)\n",
            "\u001b[?25l  Downloading https://files.pythonhosted.org/packages/19/17/1d198a6aaa9aa4590862fe3d3a2ed7dd808050cab4eebe8a2f2f813c1376/zope.interface-4.6.0-cp36-cp36m-manylinux1_x86_64.whl (167kB)\n",
            "\u001b[K     |████████████████████████████████| 174kB 36.6MB/s \n",
            "\u001b[?25hCollecting hyperlink>=17.1.1 (from Twisted>=13.1.0; python_version != \"3.4\"->Scrapy>=1.1.0->news-please)\n",
            "  Downloading https://files.pythonhosted.org/packages/7f/91/e916ca10a2de1cb7101a9b24da546fb90ee14629e23160086cf3361c4fb8/hyperlink-19.0.0-py2.py3-none-any.whl\n",
            "Collecting constantly>=15.1 (from Twisted>=13.1.0; python_version != \"3.4\"->Scrapy>=1.1.0->news-please)\n",
            "  Downloading https://files.pythonhosted.org/packages/b9/65/48c1909d0c0aeae6c10213340ce682db01b48ea900a7d9fce7a7910ff318/constantly-15.1.0-py2.py3-none-any.whl\n",
            "Collecting PyHamcrest>=1.9.0 (from Twisted>=13.1.0; python_version != \"3.4\"->Scrapy>=1.1.0->news-please)\n",
            "\u001b[?25l  Downloading https://files.pythonhosted.org/packages/9a/d5/d37fd731b7d0e91afcc84577edeccf4638b4f9b82f5ffe2f8b62e2ddc609/PyHamcrest-1.9.0-py2.py3-none-any.whl (52kB)\n",
            "\u001b[K     |████████████████████████████████| 61kB 23.8MB/s \n",
            "\u001b[?25hCollecting Automat>=0.3.0 (from Twisted>=13.1.0; python_version != \"3.4\"->Scrapy>=1.1.0->news-please)\n",
            "  Downloading https://files.pythonhosted.org/packages/a3/86/14c16bb98a5a3542ed8fed5d74fb064a902de3bdd98d6584b34553353c45/Automat-0.7.0-py2.py3-none-any.whl\n",
            "Collecting incremental>=16.10.1 (from Twisted>=13.1.0; python_version != \"3.4\"->Scrapy>=1.1.0->news-please)\n",
            "  Downloading https://files.pythonhosted.org/packages/f5/1d/c98a587dc06e107115cf4a58b49de20b19222c83d75335a192052af4c4b7/incremental-17.5.0-py2.py3-none-any.whl\n",
            "Requirement already satisfied: attrs>=17.4.0 in /usr/local/lib/python3.6/dist-packages (from Twisted>=13.1.0; python_version != \"3.4\"->Scrapy>=1.1.0->news-please) (19.1.0)\n",
            "Collecting cryptography (from service-identity->Scrapy>=1.1.0->news-please)\n",
            "\u001b[?25l  Downloading https://files.pythonhosted.org/packages/97/18/c6557f63a6abde34707196fb2cad1c6dc0dbff25a200d5044922496668a4/cryptography-2.7-cp34-abi3-manylinux1_x86_64.whl (2.3MB)\n",
            "\u001b[K     |████████████████████████████████| 2.3MB 30.7MB/s \n",
            "\u001b[?25hRequirement already satisfied: pyasn1-modules in /usr/local/lib/python3.6/dist-packages (from service-identity->Scrapy>=1.1.0->news-please) (0.2.6)\n",
            "Requirement already satisfied: pyasn1 in /usr/local/lib/python3.6/dist-packages (from service-identity->Scrapy>=1.1.0->news-please) (0.4.6)\n",
            "Requirement already satisfied: jmespath<1.0.0,>=0.7.1 in /usr/local/lib/python3.6/dist-packages (from botocore==1.12.213->awscli>=1.11.117->news-please) (0.9.4)\n",
            "Collecting requests-file>=1.4 (from tldextract>=2.0.1->newspaper3k->news-please)\n",
            "  Downloading https://files.pythonhosted.org/packages/23/9c/6e63c23c39e53d3df41c77a3d05a49a42c4e1383a6d2a5e3233161b89dbf/requests_file-1.4.3-py2.py3-none-any.whl\n",
            "Requirement already satisfied: idna in /usr/local/lib/python3.6/dist-packages (from tldextract>=2.0.1->newspaper3k->news-please) (2.8)\n",
            "Requirement already satisfied: certifi>=2017.4.17 in /usr/local/lib/python3.6/dist-packages (from requests>=2.10.0->newspaper3k->news-please) (2019.6.16)\n",
            "Requirement already satisfied: olefile in /usr/local/lib/python3.6/dist-packages (from Pillow>=3.3.0->newspaper3k->news-please) (0.46)\n",
            "Collecting asn1crypto>=0.21.0 (from cryptography->service-identity->Scrapy>=1.1.0->news-please)\n",
            "\u001b[?25l  Downloading https://files.pythonhosted.org/packages/ea/cd/35485615f45f30a510576f1a56d1e0a7ad7bd8ab5ed7cdc600ef7cd06222/asn1crypto-0.24.0-py2.py3-none-any.whl (101kB)\n",
            "\u001b[K     |████████████████████████████████| 102kB 29.6MB/s \n",
            "\u001b[?25hRequirement already satisfied: cffi!=1.11.3,>=1.8 in /usr/local/lib/python3.6/dist-packages (from cryptography->service-identity->Scrapy>=1.1.0->news-please) (1.12.3)\n",
            "Requirement already satisfied: pycparser in /usr/local/lib/python3.6/dist-packages (from cffi!=1.11.3,>=1.8->cryptography->service-identity->Scrapy>=1.1.0->news-please) (2.19)\n",
            "Building wheels for collected packages: news-please, hjson, readability-lxml, langdetect, PyDispatcher, ago, hurry.filesize, tinysegmenter, feedparser, jieba3k, feedfinder2\n",
            "  Building wheel for news-please (setup.py) ... \u001b[?25l\u001b[?25hdone\n",
            "  Created wheel for news-please: filename=news_please-1.4.23-cp36-none-any.whl size=84055 sha256=56ec9ed23b1a4a428a44bbef178ad3193bf96148d7df155d5a9d3a3a488627dc\n",
            "  Stored in directory: /root/.cache/pip/wheels/e4/2a/78/9e0691ef096b860de48ab35c707c5e3f0eb053b1bd42d96a76\n",
            "  Building wheel for hjson (setup.py) ... \u001b[?25l\u001b[?25hdone\n",
            "  Created wheel for hjson: filename=hjson-3.0.1-cp36-none-any.whl size=54145 sha256=0ab243fb5841baadc379d8febb5b153724de5c790109ba2d49a78563d253c4e8\n",
            "  Stored in directory: /root/.cache/pip/wheels/34/2a/5b/254bcb7475d861a2bdc1f8f32f9924734b4e045a7c8dd596ae\n",
            "  Building wheel for readability-lxml (setup.py) ... \u001b[?25l\u001b[?25hdone\n",
            "  Created wheel for readability-lxml: filename=readability_lxml-0.7.1-cp36-none-any.whl size=16480 sha256=60894b8b45bc22f5c4d966d7b2348cffb8569d1e9a889c9fa122c8ce1e1d8d13\n",
            "  Stored in directory: /root/.cache/pip/wheels/94/48/e5/d944e616d8b0734c3b9cf30a21f4afcf855a1e2b85f82f34fb\n",
            "  Building wheel for langdetect (setup.py) ... \u001b[?25l\u001b[?25hdone\n",
            "  Created wheel for langdetect: filename=langdetect-1.0.7-cp36-none-any.whl size=993460 sha256=5e3773e68e4ffe8c51f7a86c6fadbfb8646449530ede44787f3f5beb92a0f606\n",
            "  Stored in directory: /root/.cache/pip/wheels/ec/0c/a9/1647275e7ef5014e7b83ff30105180e332867d65e7617ddafe\n",
            "  Building wheel for PyDispatcher (setup.py) ... \u001b[?25l\u001b[?25hdone\n",
            "  Created wheel for PyDispatcher: filename=PyDispatcher-2.0.5-cp36-none-any.whl size=11517 sha256=69d9f8c0c05f62fc083e44a86dc1cc8a9aef26a4c1ddcc8691e3631d1fcaf4e5\n",
            "  Stored in directory: /root/.cache/pip/wheels/88/99/96/cfef6665f9cb1522ee6757ae5955feedf2fe25f1737f91fa7f\n",
            "  Building wheel for ago (setup.py) ... \u001b[?25l\u001b[?25hdone\n",
            "  Created wheel for ago: filename=ago-0.0.93-cp36-none-any.whl size=3275 sha256=6c189c59f70d7869abb1575146310935b77c82ef4ce08b6641c9673ca7e2355e\n",
            "  Stored in directory: /root/.cache/pip/wheels/86/65/dc/27df15b96de756d2e07bc01433067df2e6ace2bae8de0576a2\n",
            "  Building wheel for hurry.filesize (setup.py) ... \u001b[?25l\u001b[?25hdone\n",
            "  Created wheel for hurry.filesize: filename=hurry.filesize-0.9-cp36-none-any.whl size=4134 sha256=43ebbba6eae9302dcd5f88c5b7e113a24595741a474c64fa9ffb4987c7b963a2\n",
            "  Stored in directory: /root/.cache/pip/wheels/2c/2b/7d/b63fffa26fe9949c4c44f226c566387b72617269c94b89eded\n",
            "  Building wheel for tinysegmenter (setup.py) ... \u001b[?25l\u001b[?25hdone\n",
            "  Created wheel for tinysegmenter: filename=tinysegmenter-0.3-cp36-none-any.whl size=13538 sha256=a252e0a09b17ce143c014a77402700519283242a2ab6bc2ac73f7ff02fe1e2f5\n",
            "  Stored in directory: /root/.cache/pip/wheels/81/2b/43/a02ede72324dd40cdd7ca53aad718c7710628e91b8b0dc0f02\n",
            "  Building wheel for feedparser (setup.py) ... \u001b[?25l\u001b[?25hdone\n",
            "  Created wheel for feedparser: filename=feedparser-5.2.1-cp36-none-any.whl size=44940 sha256=36685b0a92210a64067ab90226559b24aa6770d77d46f21bb891d53726f78847\n",
            "  Stored in directory: /root/.cache/pip/wheels/8c/69/b7/f52763c41c5471df57703a0ef718a32a5e81ee35dcf6d4f97f\n",
            "  Building wheel for jieba3k (setup.py) ... \u001b[?25l\u001b[?25hdone\n",
            "  Created wheel for jieba3k: filename=jieba3k-0.35.1-cp36-none-any.whl size=7398406 sha256=7f960d65215ce887f9467184997f64f06aa02ac5878fb01b401768a01f4af2b7\n",
            "  Stored in directory: /root/.cache/pip/wheels/83/15/9c/a3f1f67e7f7181170ad37d32e503c35da20627c013f438ed34\n",
            "  Building wheel for feedfinder2 (setup.py) ... \u001b[?25l\u001b[?25hdone\n",
            "  Created wheel for feedfinder2: filename=feedfinder2-0.0.4-cp36-none-any.whl size=3358 sha256=45f53837e92cc17329f70f764bcd01165fcfbbb4fb7e54e2f6a77abf9c89d8ac\n",
            "  Stored in directory: /root/.cache/pip/wheels/de/03/ca/778e3a7a627e3d98836cc890e7cb40c7575424cfd3340f40ed\n",
            "Successfully built news-please hjson readability-lxml langdetect PyDispatcher ago hurry.filesize tinysegmenter feedparser jieba3k feedfinder2\n",
            "Installing collected packages: zope.interface, hyperlink, constantly, PyHamcrest, Automat, incremental, Twisted, w3lib, PyDispatcher, asn1crypto, cryptography, service-identity, queuelib, cssselect, parsel, pyOpenSSL, Scrapy, PyMySQL, hjson, elasticsearch, readability-lxml, langdetect, dotmap, warcio, ago, colorama, rsa, botocore, awscli, hurry.filesize, tinysegmenter, feedparser, jieba3k, requests-file, tldextract, feedfinder2, newspaper3k, news-please\n",
            "  Found existing installation: rsa 4.0\n",
            "    Uninstalling rsa-4.0:\n",
            "      Successfully uninstalled rsa-4.0\n",
            "  Found existing installation: botocore 1.12.205\n",
            "    Uninstalling botocore-1.12.205:\n",
            "      Successfully uninstalled botocore-1.12.205\n",
            "Successfully installed Automat-0.7.0 PyDispatcher-2.0.5 PyHamcrest-1.9.0 PyMySQL-0.9.3 Scrapy-1.7.3 Twisted-19.7.0 ago-0.0.93 asn1crypto-0.24.0 awscli-1.16.223 botocore-1.12.213 colorama-0.3.9 constantly-15.1.0 cryptography-2.7 cssselect-1.1.0 dotmap-1.3.8 elasticsearch-7.0.3 feedfinder2-0.0.4 feedparser-5.2.1 hjson-3.0.1 hurry.filesize-0.9 hyperlink-19.0.0 incremental-17.5.0 jieba3k-0.35.1 langdetect-1.0.7 news-please-1.4.23 newspaper3k-0.2.8 parsel-1.5.2 pyOpenSSL-19.0.0 queuelib-1.5.0 readability-lxml-0.7.1 requests-file-1.4.3 rsa-3.4.2 service-identity-18.1.0 tinysegmenter-0.3 tldextract-2.2.1 w3lib-1.21.0 warcio-1.7.1 zope.interface-4.6.0\n"
          ],
          "name": "stdout"
        },
        {
          "output_type": "display_data",
          "data": {
            "application/vnd.colab-display-data+json": {
              "pip_warning": {
                "packages": [
                  "botocore",
                  "rsa"
                ]
              }
            }
          },
          "metadata": {
            "tags": []
          }
        }
      ]
    },
    {
      "cell_type": "code",
      "metadata": {
        "id": "xRd5KXqXpsY1",
        "colab_type": "code",
        "colab": {}
      },
      "source": [
        "def print_result(link):\n",
        "    sample_text = get_content(link)\n",
        "    article = NewsPlease.from_url(link)\n",
        "    print('Title:',article.title)\n",
        "    pprint('summerized')\n",
        "    pprint(show_summary(sample_text,6))"
      ],
      "execution_count": 0,
      "outputs": []
    },
    {
      "cell_type": "code",
      "metadata": {
        "id": "fCUivYRLp7rX",
        "colab_type": "code",
        "colab": {
          "base_uri": "https://localhost:8080/",
          "height": 176
        },
        "outputId": "cbdc863e-d791-4a8a-dd53-591781bbe3ec"
      },
      "source": [
        "print_result('https://www.onlinekhabar.com/2019/08/789118')"
      ],
      "execution_count": 40,
      "outputs": [
        {
          "output_type": "stream",
          "text": [
            "Title: विमानस्थलमा पारसको दुर्व्यवहार : प्रहरीले थाल्यो छानविन\n",
            "'summerized'\n",
            "(' २ भदौ काठमाडौं । मध्यप्रदेशको एन्टी टेरोरिज्म सेलले नक्कली भारतीय '\n",
            " 'रुपैयाँसहित नेपाली नागरिक अतिक मोहम्मद र भारतीय नागरिक राजेश गुप्तालाई '\n",
            " 'पक्राउ गरेपछि उनको संलग्नताबारे भारतीय सञ्चारमाध्यमले समाचार लेखेका थिए । '\n",
            " 'त्यसवेला द इन्डिया टाइम्सले लेखेको एक समाचारमा शाहले अन्डरवर्ल्ड डन दाउद '\n",
            " 'इब्राहिमको र्\\u200dयाकेटमा नेपालबाट सहयोगीको रुपमा भूमिका खेलेको गम्भीर आरोप '\n",
            " 'लगाइएको थियो । उक्त समाचारमा शाहसँगै युनुस अन्सारीलाई पनि भारतीय मिडियाले '\n",
            " 'मुछेका थिए । तथापि पारशमाथि लागेको यो आरोपको पुष्टि हुन सकेको छैन ।')\n"
          ],
          "name": "stdout"
        }
      ]
    },
    {
      "cell_type": "code",
      "metadata": {
        "id": "kxH4REmJqSOP",
        "colab_type": "code",
        "colab": {}
      },
      "source": [
        ""
      ],
      "execution_count": 0,
      "outputs": []
    }
  ]
}