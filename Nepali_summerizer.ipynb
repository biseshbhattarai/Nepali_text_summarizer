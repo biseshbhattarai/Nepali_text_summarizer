{
  "nbformat": 4,
  "nbformat_minor": 0,
  "metadata": {
    "colab": {
      "name": "Nepali summerizer.ipynb",
      "version": "0.3.2",
      "provenance": [],
      "include_colab_link": true
    },
    "kernelspec": {
      "name": "python3",
      "display_name": "Python 3"
    },
    "accelerator": "GPU"
  },
  "cells": [
    {
      "cell_type": "markdown",
      "metadata": {
        "id": "view-in-github",
        "colab_type": "text"
      },
      "source": [
        "<a href=\"https://colab.research.google.com/github/sushil79g/Nepali_text_summerizer/blob/master/Nepali_summerizer.ipynb\" target=\"_parent\"><img src=\"https://colab.research.google.com/assets/colab-badge.svg\" alt=\"Open In Colab\"/></a>"
      ]
    },
    {
      "cell_type": "code",
      "metadata": {
        "id": "6TmHl9SAx5HX",
        "colab_type": "code",
        "outputId": "d9b3e608-e6aa-4ad9-c9ae-63d1d275670e",
        "colab": {
          "base_uri": "https://localhost:8080/",
          "height": 119
        }
      },
      "source": [
        "#if you are using colab\n",
        "!git clone https://github.com/sushil79g/Nepali_text_summerizer\n",
        "from Nepali_text_summerizer.loadembedding import load_vector"
      ],
      "execution_count": 0,
      "outputs": [
        {
          "output_type": "stream",
          "text": [
            "Cloning into 'Nepali_text_summerizer'...\n",
            "remote: Enumerating objects: 15, done.\u001b[K\n",
            "remote: Counting objects: 100% (15/15), done.\u001b[K\n",
            "remote: Compressing objects: 100% (13/13), done.\u001b[K\n",
            "remote: Total 15 (delta 4), reused 0 (delta 0), pack-reused 0\u001b[K\n",
            "Unpacking objects: 100% (15/15), done.\n"
          ],
          "name": "stdout"
        }
      ]
    },
    {
      "cell_type": "code",
      "metadata": {
        "id": "Tsid1yScyNK5",
        "colab_type": "code",
        "colab": {}
      },
      "source": [
        "#if you are at local\n",
        "# from loadembedding import load_vector"
      ],
      "execution_count": 0,
      "outputs": []
    },
    {
      "cell_type": "code",
      "metadata": {
        "id": "CJXphV8k0QJz",
        "colab_type": "code",
        "outputId": "20b36cec-f010-4858-bdb7-e2f15e1a7487",
        "colab": {
          "base_uri": "https://localhost:8080/",
          "height": 156
        }
      },
      "source": [
        "word_vec = load_vector()"
      ],
      "execution_count": 0,
      "outputs": [
        {
          "output_type": "stream",
          "text": [
            "Go to this URL in a browser: https://accounts.google.com/o/oauth2/auth?client_id=947318989803-6bn6qk8qdgf4n4g3pfee6491hc0brc4i.apps.googleusercontent.com&redirect_uri=urn%3Aietf%3Awg%3Aoauth%3A2.0%3Aoob&scope=email%20https%3A%2F%2Fwww.googleapis.com%2Fauth%2Fdocs.test%20https%3A%2F%2Fwww.googleapis.com%2Fauth%2Fdrive%20https%3A%2F%2Fwww.googleapis.com%2Fauth%2Fdrive.photos.readonly%20https%3A%2F%2Fwww.googleapis.com%2Fauth%2Fpeopleapi.readonly&response_type=code\n",
            "\n",
            "Enter your authorization code:\n",
            "··········\n",
            "Mounted at /content/drive\n"
          ],
          "name": "stdout"
        },
        {
          "output_type": "stream",
          "text": [
            "/usr/local/lib/python3.6/dist-packages/smart_open/smart_open_lib.py:398: UserWarning: This function is deprecated, use smart_open.open instead. See the migration notes for details: https://github.com/RaRe-Technologies/smart_open/blob/master/README.rst#migrating-to-the-new-open-function\n",
            "  'See the migration notes for details: %s' % _MIGRATION_NOTES_URL\n"
          ],
          "name": "stderr"
        }
      ]
    },
    {
      "cell_type": "code",
      "metadata": {
        "id": "cgHaiNwQBugZ",
        "colab_type": "code",
        "colab": {}
      },
      "source": [
        "import string\n",
        "def preprocess(text):\n",
        "    sentences = text.split(u\"।\")\n",
        "#     abc = text.translate(str.maketrans('', '', string.punctuation))\n",
        "    sentences = [sentence.translate(str.maketrans('', '', string.punctuation)) for sentence in sentences]\n",
        "    return sentences "
      ],
      "execution_count": 0,
      "outputs": []
    },
    {
      "cell_type": "code",
      "metadata": {
        "id": "VJiZQKoeXWZT",
        "colab_type": "code",
        "outputId": "95613407-9c0c-481b-b6f5-91e9157d6228",
        "colab": {
          "base_uri": "https://localhost:8080/",
          "height": 1000
        }
      },
      "source": [
        "word_vec['याद']"
      ],
      "execution_count": 4,
      "outputs": [
        {
          "output_type": "execute_result",
          "data": {
            "text/plain": [
              "array([ 1.59461051e-01, -5.85965931e-01,  3.78590047e-01, -4.74045545e-01,\n",
              "        9.43699852e-02,  8.82810473e-01,  8.47471714e-01,  2.71366894e-01,\n",
              "       -2.91820467e-01,  5.16441107e-01, -3.08772981e-01, -2.16735333e-01,\n",
              "       -2.68063605e-01, -2.66613662e-01, -4.27117199e-01, -9.15338635e-01,\n",
              "       -6.45890951e-01,  1.69385195e-01,  1.89498529e-01,  1.03605795e+00,\n",
              "       -1.43938050e-01,  2.56531447e-01, -3.53469521e-01,  2.65364021e-01,\n",
              "        3.85109991e-01,  3.01573038e-01,  7.09220588e-01, -6.60610273e-02,\n",
              "        6.79583371e-01, -1.09058753e-01,  2.95875072e-01, -8.73443559e-02,\n",
              "        1.30954489e-01,  4.19844911e-02,  4.76874322e-01,  5.39385259e-01,\n",
              "        5.25668502e-01, -6.92974627e-02, -9.60046947e-02,  3.30410570e-01,\n",
              "       -6.32967889e-01, -5.90312257e-02, -6.23273611e-01,  2.60242343e-01,\n",
              "        5.40041029e-01,  2.43316591e-01,  2.72388130e-01,  4.72497255e-01,\n",
              "       -1.95385918e-01, -8.09923261e-02, -8.45567584e-01, -1.58558071e-01,\n",
              "       -7.79802799e-01, -6.15156651e-01,  4.17703003e-01,  3.60298634e-01,\n",
              "        4.94670838e-01, -6.18113577e-01,  5.89784741e-01, -4.23489660e-01,\n",
              "       -2.35004574e-01, -3.24162990e-01,  8.12768519e-01,  9.77103293e-01,\n",
              "       -7.69542098e-01,  3.07259947e-01,  5.54588616e-01, -5.24480820e-01,\n",
              "        3.01152337e-02, -4.21698153e-01,  4.38564152e-01, -4.39485013e-02,\n",
              "        1.90502167e-01,  5.44225752e-01,  4.36203033e-01, -3.58864218e-01,\n",
              "        5.97197831e-01, -7.42577612e-01, -1.15443671e+00, -3.05345207e-01,\n",
              "        2.00740963e-01, -1.83676749e-01,  1.45319492e-01,  1.34001389e-01,\n",
              "        9.37488496e-01, -3.21759939e-01, -5.75332224e-01,  3.12225148e-02,\n",
              "       -4.48100716e-01, -3.16603959e-01,  4.71743196e-01,  3.88532043e-01,\n",
              "       -7.24068463e-01, -2.80958176e-01, -7.44101048e-01, -4.71348941e-01,\n",
              "       -7.12384403e-01, -9.50299874e-02,  4.85088080e-01, -7.06989944e-01,\n",
              "        1.22755241e+00, -5.11732399e-01,  1.08441513e-03, -3.77368987e-01,\n",
              "       -1.51639640e-01,  1.57188833e-01, -1.08151615e+00, -4.75195318e-01,\n",
              "        1.40749559e-01, -1.31626993e-01, -4.15687524e-02, -1.09976435e+00,\n",
              "        2.50465512e-01, -3.41104120e-01,  1.12168275e-01,  1.46743953e-01,\n",
              "       -4.88778383e-01,  4.36180905e-02, -2.79792696e-01, -4.60719824e-01,\n",
              "        4.64173518e-02,  1.06845880e+00,  7.76266217e-01, -7.82528222e-01,\n",
              "        5.05148232e-01, -5.71259737e-01, -3.74574721e-01, -1.64314568e-01,\n",
              "        6.20163642e-02, -3.39400530e-01,  2.45324731e-01,  6.36981666e-01,\n",
              "        4.08959001e-01,  3.37362826e-01, -3.63428235e-01, -6.75552726e-01,\n",
              "       -4.21020150e-01,  1.28566828e-02, -7.01675534e-01,  1.59284249e-01,\n",
              "        6.20213151e-01,  2.62600631e-01,  1.88172653e-01, -1.42974782e+00,\n",
              "       -3.49550366e-01,  5.09363949e-01,  1.48249164e-01,  3.88326526e-01,\n",
              "       -4.62727427e-01,  9.54593956e-01,  3.02944094e-01, -3.21500450e-01,\n",
              "        5.59798717e-01, -7.76815534e-01,  7.36742496e-01,  1.30656157e-02,\n",
              "        1.22847669e-01, -3.26246291e-01,  2.60519594e-01, -1.54445291e-01,\n",
              "       -5.13903081e-01, -3.29412930e-02,  3.18751857e-02, -5.99646628e-01,\n",
              "        2.11118847e-01, -3.54321659e-01, -6.67540789e-01, -2.04901382e-01,\n",
              "        5.21636084e-02,  7.39594251e-02,  1.22800551e-01, -7.50885844e-01,\n",
              "       -1.14609611e+00, -2.62414932e-01,  5.39442837e-01, -1.27574682e-01,\n",
              "       -2.38642022e-01,  4.65670899e-02,  1.65994930e+00,  6.39968142e-02,\n",
              "        2.21579894e-01,  6.46621644e-01, -2.63157010e-01,  3.83452147e-01,\n",
              "       -4.73296791e-01,  8.00371915e-02,  6.17488623e-01,  1.42921209e-01,\n",
              "       -2.42616490e-01,  3.41954708e-01, -4.22103643e-01,  6.20532513e-01,\n",
              "       -2.96189874e-01, -1.15583730e+00, -4.31312293e-01,  1.25164792e-01,\n",
              "       -1.44954816e-01, -1.26681119e-01,  3.41225833e-01, -6.36318028e-01,\n",
              "        2.24956065e-01, -6.68306231e-01,  5.57966650e-01,  1.23727810e+00,\n",
              "        1.30623847e-01,  3.27431768e-01,  2.71754771e-01, -9.15278375e-01,\n",
              "        2.85825580e-01, -4.00179565e-01, -7.42726266e-01, -6.12736382e-02,\n",
              "       -5.29046714e-01,  1.21691078e-01, -1.66748121e-01, -2.50165164e-01,\n",
              "       -1.07498839e-01,  9.50032830e-01, -5.92910759e-02,  3.42230886e-01,\n",
              "       -1.85392201e-01, -1.56800404e-01, -1.05177850e-01, -2.57996053e-01,\n",
              "        4.63417679e-01,  1.42656520e-01, -7.94569731e-01, -3.78395945e-01,\n",
              "        3.38335574e-01, -6.18895352e-01, -3.78379494e-01,  6.64530218e-01,\n",
              "        5.07518768e-01,  2.79769391e-01,  1.96463013e+00, -1.94297805e-01,\n",
              "       -6.94395661e-01, -2.66163737e-01, -8.70967269e-01, -1.97074741e-01,\n",
              "       -2.51972347e-01, -4.66225564e-01,  3.73884976e-01,  6.49847910e-02,\n",
              "        3.34306620e-02, -1.17382528e-02, -5.20046473e-01, -2.79363096e-01,\n",
              "        6.70226812e-01,  5.91783583e-01,  6.41924500e-01, -7.59068012e-01,\n",
              "        2.49160249e-02, -4.64362605e-03, -6.07081167e-02, -1.59828797e-01,\n",
              "       -2.95904070e-01, -6.19709551e-01,  7.03859329e-01,  8.06628168e-02,\n",
              "        4.36120242e-01, -2.24325746e-01,  6.05270922e-01,  2.39034817e-01,\n",
              "        5.51173508e-01, -4.73968118e-01, -1.14569461e+00,  1.93076134e-01,\n",
              "        1.17445707e+00, -1.36351869e-01,  9.72963274e-02,  3.30635272e-02,\n",
              "        2.39152476e-01,  3.72845009e-02,  3.98077011e-01, -1.77380696e-01,\n",
              "       -1.08370893e-01,  8.28148603e-01, -1.82198390e-01,  1.37364641e-01,\n",
              "        3.34645391e-01,  4.06443685e-01, -1.21131465e-01, -3.82442892e-01,\n",
              "       -3.12044948e-01,  6.74726307e-01,  3.89432430e-01,  8.69260252e-01,\n",
              "       -8.19373250e-01,  4.52807620e-02, -5.78472435e-01,  4.46760535e-01,\n",
              "       -2.22492307e-01,  8.04199874e-01,  1.45751819e-01, -3.79914045e-02,\n",
              "        7.25641847e-01, -4.14807051e-01, -3.78528625e-01,  1.85342371e-01,\n",
              "        5.18459141e-01,  1.21698928e+00,  2.67325580e-01, -2.70274609e-01,\n",
              "        3.56366098e-01,  7.52867013e-02, -1.47836864e-01,  3.46184000e-02,\n",
              "        1.34902090e-01, -8.45310837e-02, -2.06797510e-01, -1.48516223e-01,\n",
              "        1.96868107e-01, -5.29823363e-01, -3.30404758e-01, -3.85061711e-01,\n",
              "        2.52990872e-01,  7.50931948e-02,  6.20480001e-01, -5.36484480e-01,\n",
              "       -1.85504064e-01,  2.76857227e-01, -6.29066288e-01,  1.39813811e-01,\n",
              "        2.54086167e-01, -1.38577759e-01,  5.69311500e-01, -3.03627290e-02,\n",
              "       -2.82758683e-01, -9.08527076e-01, -3.49496126e-01,  5.65222204e-01,\n",
              "        8.47311020e-01,  5.08313537e-01,  5.43414295e-01,  6.29930973e-01,\n",
              "       -4.92410094e-01, -1.39071718e-01,  9.87601951e-02, -3.95022392e-01,\n",
              "       -3.10303450e-01, -3.63474667e-01,  1.14692581e+00,  5.74072659e-01,\n",
              "       -2.20246464e-02,  1.36067286e-01, -3.66641849e-01, -2.61312664e-01,\n",
              "        2.54324257e-01,  4.49541733e-02, -2.97776580e-01,  2.01224864e-01,\n",
              "        2.13856131e-01,  4.88326028e-02,  3.93778443e-01,  3.66988897e-01,\n",
              "        1.53511137e-01,  1.45178214e-01, -8.12887847e-01, -1.86133444e-01,\n",
              "       -1.94163293e-01, -3.63409758e-01, -4.44091111e-01, -4.34714407e-02,\n",
              "       -3.74017000e-01, -3.90925258e-01,  1.10459469e-01,  5.72556928e-02,\n",
              "        2.91590691e-01,  1.64084256e+00,  9.07207951e-02,  7.09355652e-01,\n",
              "       -1.13363311e-01,  6.97173059e-01,  2.26605162e-01, -4.94034618e-01,\n",
              "        6.71685517e-01, -1.63149536e-02, -5.96845806e-01,  5.06787479e-01,\n",
              "       -1.42994180e-01,  2.02254042e-01, -4.19212878e-01,  3.65346164e-01,\n",
              "        3.50578994e-01, -3.26654390e-02,  1.99724883e-01, -2.34116733e-01,\n",
              "        1.10764968e+00, -6.38711631e-01, -7.45362863e-02, -7.49742091e-01,\n",
              "       -4.33288753e-01, -5.93067169e-01,  1.14230819e-01,  5.12415990e-02,\n",
              "        4.09905165e-01,  8.34953561e-02, -4.30823684e-01, -1.26197368e-01],\n",
              "      dtype=float32)"
            ]
          },
          "metadata": {
            "tags": []
          },
          "execution_count": 4
        }
      ]
    },
    {
      "cell_type": "code",
      "metadata": {
        "id": "56C1hi5U3lKO",
        "colab_type": "code",
        "outputId": "6be08dbd-6879-496b-a26a-ab29adb1e2a2",
        "colab": {
          "base_uri": "https://localhost:8080/",
          "height": 34
        }
      },
      "source": [
        "# (list(word_vec.vocab)) सिद्धान्त\n",
        "word_vec.vector_size"
      ],
      "execution_count": 5,
      "outputs": [
        {
          "output_type": "execute_result",
          "data": {
            "text/plain": [
              "400"
            ]
          },
          "metadata": {
            "tags": []
          },
          "execution_count": 5
        }
      ]
    },
    {
      "cell_type": "code",
      "metadata": {
        "id": "jNZ7qcvA5cfB",
        "colab_type": "code",
        "colab": {}
      },
      "source": [
        "#using TFIDF"
      ],
      "execution_count": 0,
      "outputs": []
    },
    {
      "cell_type": "code",
      "metadata": {
        "id": "_ccVDoJc5sIZ",
        "colab_type": "code",
        "colab": {}
      },
      "source": [
        "from sklearn.feature_extraction.text import TfidfVectorizer\n",
        "import numpy as np\n",
        "def generate_centroif_tfidf(sentence):\n",
        "    tf = TfidfVectorizer()\n",
        "    tfidf = tf.fit_transform(sentence).toarray().sum(0)\n",
        "    tfidf = np.divide(tfidf, tfidf.max())\n",
        "    words = tf.get_feature_names()\n",
        "    similar_term = []\n",
        "    for i in range(len(tfidf)):\n",
        "        if words[i] in vocab:\n",
        "            if tfidf[i] >= 0.2:\n",
        "                similar_term.append(words[i])\n",
        "    res = [word_vec[term] for term in similar_term]\n",
        "    return sum(res)/len(res)"
      ],
      "execution_count": 0,
      "outputs": []
    },
    {
      "cell_type": "code",
      "metadata": {
        "id": "_bBvuFO32giK",
        "colab_type": "code",
        "colab": {}
      },
      "source": [
        "vocab = word_vec.vocab\n",
        "def sentence_vectorizer(sentence,size,word_vec,vocab):\n",
        "    dic = {}\n",
        "    for i in range(len(sentence)):\n",
        "        sum_vec = np.zeros(size)\n",
        "        try:\n",
        "            sentence_word = sentence[i].split()\n",
        "        except:\n",
        "            pass\n",
        "        sentence = [word for word in sentence_word if word in vocab]\n",
        "        if sentence:\n",
        "            for word in sentence:\n",
        "                word_vec_ = word_vec[word]\n",
        "                sum_vec = np.add(sum_vec, word_vec_)\n",
        "                \n",
        "            dic[i] = sum_vec/len(sentence)\n",
        "    return dic\n"
      ],
      "execution_count": 0,
      "outputs": []
    },
    {
      "cell_type": "code",
      "metadata": {
        "id": "Q1V3FqU8g9Gi",
        "colab_type": "code",
        "colab": {}
      },
      "source": [
        "def sentence_selection(centroid, sentences_dict, summary_length):\n",
        "    from scipy.spatial.distance import cosine\n",
        "    sentence_retriever = []\n",
        "    record = []\n",
        "    for sentence_id in sentences_dict:\n",
        "        vector = sentences_dict[sentence_id]\n",
        "        similarity = (1 - cosine(centroid, vector))\n",
        "        record.append((sentence_id, vector, similarity))\n",
        "\n",
        "    rank = list(reversed(sorted(record, key=lambda tup: tup[2])))\n",
        "    sentence_ids = []\n",
        "    summary_char_num = 0\n",
        "    stop = False\n",
        "    i = 0\n",
        "    text_length = sum([len(x) for x in sentence_retriever])\n",
        "\n",
        "    if summary_length < 1:\n",
        "        limit = int(text_length * float(summary_length))\n",
        "\n",
        "        while not stop and i < len(rank):\n",
        "            sentence_id = rank[i][0]\n",
        "            new_vector = sentences_dict[sentence_id]\n",
        "            sent_char_num = len(sentence_retriever[sentence_id])\n",
        "            redundancy = [sentences_dict[k] for k in sentence_ids\n",
        "                            if (1 - cosine(new_vector, sentences_dict[k]) > 0.95)]\n",
        "\n",
        "            if not redundancy:\n",
        "                summary_char_num += sent_char_num\n",
        "                sentence_ids.append(sentence_id)\n",
        "            i += 1\n",
        "\n",
        "            if summary_char_num > limit:\n",
        "                stop = True\n",
        "    else: \n",
        "        sentences_number = int(summary_length)\n",
        "        sentence_ids = rank[:sentences_number]\n",
        "        sentence_ids = map(lambda t: t[0], sentence_ids)\n",
        "\n",
        "    sentence_ids = sorted(sentence_ids)\n",
        "    \n",
        "    return sentence_ids"
      ],
      "execution_count": 0,
      "outputs": []
    },
    {
      "cell_type": "code",
      "metadata": {
        "id": "nqn8sYhLhBdu",
        "colab_type": "code",
        "colab": {}
      },
      "source": [
        "def summary(centroid_tfidf,sent,sent_dict,length):\n",
        "    ids = sentence_selection(centroid_tfidf,sent_dict,length)\n",
        "    whole_summary = []\n",
        "    for inde in ids:\n",
        "        whole_summary.append(sent[inde])\n",
        "    return '।'.join(whole_summary)\n"
      ],
      "execution_count": 0,
      "outputs": []
    },
    {
      "cell_type": "code",
      "metadata": {
        "id": "yH6Y_F788NGd",
        "colab_type": "code",
        "colab": {}
      },
      "source": [
        "sample_text = \"मलाई राम्रैसंग याद छ, भर्खर एसएलसी सकेर बसेको थिएँ, मेरो बा रोगले लगभग थलिनु भएको थियो । त्यसको एक प्रमुख कारण हो, कच्चा बैद्यको मात्रा । प्राथमिक स्वास्थ्य केन्द पालुङका एक अहेबले लगातार पेन किलरको प्रयोगले नै मेरो बा मलगायत मेरो परिवारलाई टुहुरो बनाएर जानु भएको हो । २०५९ साल बैशाख दुई गते बाको स्वास्थ्य परिक्षणको लागि ललितपुरको पुल्चोकस्थित शान्ति फर्ममा पुग्यौं, त्यहाँ डाक्टर आनन्द कुमार श्रेष्ठले बाको बारेमा भबिष्यबाणी गरिदिनु भयो, सबै रिपोर्टहरु हेरेर । त्यस लगत्तै हामी क्यान्सरको लागि नाम कहलिएका डाक्टर मदनकुमार पियाकोमा पुग्यौं, काठमाण्डौं हस्पिटल त्रिपुरेश्वर । त्यहाँ पुग्दा मैले पियालाई चिकित्सक कम ब्यापारी बढि पाएँ । पियाको सुझाब थियो, केमोथेरापी गर्ने तर त्यसको ग्यारेन्टी थिएन । अनि उनले सोधे थैली कस्तो छ रु थैली हेरेर उपचार गर्छौं, चलाउने त केमो नै हो एकपटकको १० हजार रुपैंया पर्ने पनि छ, पैंतीस सय पर्ने पनि । तपाँईहरु सल्लाह गरेर भोलि आउनु । उनले थैली हेरे, रोग हेरेनन, रोगीको अबस्था हेरेनन । हेरे न केबल बिरामीको थैली । अनि हामीले पनि पियालाई हेरेनौं । काठमाण्डौं छाडेर हामी बिपी कोइराला क्यान्सर अस्पताल चितवन हानियौं । त्यहाँ पनि मेरो चिकित्सक, बिरामी र बिरामीको अभिभाबकबीच हुनुपर्ने जस्तो सम्बन्ध स्थापित हुन सकेन । डाक्टरले भने जति सबै प्रक्रिया र रिपोर्टहरु पूरा गरेर डाक्टर झाको टेबुलमा पुग्दा, मलाई केहि पनि थाहा छैन भन्ने जवाफ आयो, सबै रिपोर्ट हेरिसकेपछि। अनि मैले त्यहाँ औषधि पसल संचालन गरेर मामाको एक जना साथीको सोर्स फार्सले भोलिपल्ट बुबालाई अस्पताल त भर्ना गराएँ । तर, हाम्रा सबै प्रयासहरु असफल साबित भए । डाक्टर श्रेष्ठ र ती औषधीपसल संचालकले गरेको भबिष्यबाणी अनुसार नै त्यही बर्षको साउन ३० गते मेरो बा हामी सबैलाई छाडेर सदाका लागि बिदा हुनु भयो ।\""
      ],
      "execution_count": 0,
      "outputs": []
    },
    {
      "cell_type": "code",
      "metadata": {
        "id": "-C8b3D8UmJpg",
        "colab_type": "code",
        "colab": {}
      },
      "source": [
        "def show_summary(sample_text,length_sentence_predict):\n",
        "    sent = preprocess(sample_text)\n",
        "    centroid_tfidf = generate_centroif_tfidf(sent)\n",
        "    size = word_vec.vector_size\n",
        "    sent_dict = sentence_vectorizer(sent,size,word_vec,vocab)\n",
        "    return summary(centroid_tfidf,sent,sent_dict,length_sentence_predict)"
      ],
      "execution_count": 0,
      "outputs": []
    },
    {
      "cell_type": "code",
      "metadata": {
        "id": "FMRqOOuyhEtE",
        "colab_type": "code",
        "colab": {
          "base_uri": "https://localhost:8080/",
          "height": 578
        },
        "outputId": "89969efe-a5c8-4bdb-f4e0-c1dd748e25e6"
      },
      "source": [
        "from pprint import pprint\n",
        "pprint('original')\n",
        "pprint(sample_text)\n",
        "print('\\n\\n')\n",
        "pprint('summerized')\n",
        "pprint(show_summary(sample_text,5))"
      ],
      "execution_count": 68,
      "outputs": [
        {
          "output_type": "stream",
          "text": [
            "'original'\n",
            "('मलाई राम्रैसंग याद छ, भर्खर एसएलसी सकेर बसेको थिएँ, मेरो बा रोगले लगभग थलिनु '\n",
            " 'भएको थियो । त्यसको एक प्रमुख कारण हो, कच्चा बैद्यको मात्रा । प्राथमिक '\n",
            " 'स्वास्थ्य केन्द पालुङका एक अहेबले लगातार पेन किलरको प्रयोगले नै मेरो बा '\n",
            " 'मलगायत मेरो परिवारलाई टुहुरो बनाएर जानु भएको हो । २०५९ साल बैशाख दुई गते '\n",
            " 'बाको स्वास्थ्य परिक्षणको लागि ललितपुरको पुल्चोकस्थित शान्ति फर्ममा पुग्यौं, '\n",
            " 'त्यहाँ डाक्टर आनन्द कुमार श्रेष्ठले बाको बारेमा भबिष्यबाणी गरिदिनु भयो, सबै '\n",
            " 'रिपोर्टहरु हेरेर । त्यस लगत्तै हामी क्यान्सरको लागि नाम कहलिएका डाक्टर '\n",
            " 'मदनकुमार पियाकोमा पुग्यौं, काठमाण्डौं हस्पिटल त्रिपुरेश्वर । त्यहाँ पुग्दा '\n",
            " 'मैले पियालाई चिकित्सक कम ब्यापारी बढि पाएँ । पियाको सुझाब थियो, केमोथेरापी '\n",
            " 'गर्ने तर त्यसको ग्यारेन्टी थिएन । अनि उनले सोधे थैली कस्तो छ रु थैली हेरेर '\n",
            " 'उपचार गर्छौं, चलाउने त केमो नै हो एकपटकको १० हजार रुपैंया पर्ने पनि छ, '\n",
            " 'पैंतीस सय पर्ने पनि । तपाँईहरु सल्लाह गरेर भोलि आउनु । उनले थैली हेरे, रोग '\n",
            " 'हेरेनन, रोगीको अबस्था हेरेनन । हेरे न केबल बिरामीको थैली । अनि हामीले पनि '\n",
            " 'पियालाई हेरेनौं । काठमाण्डौं छाडेर हामी बिपी कोइराला क्यान्सर अस्पताल चितवन '\n",
            " 'हानियौं । त्यहाँ पनि मेरो चिकित्सक, बिरामी र बिरामीको अभिभाबकबीच हुनुपर्ने '\n",
            " 'जस्तो सम्बन्ध स्थापित हुन सकेन । डाक्टरले भने जति सबै प्रक्रिया र रिपोर्टहरु '\n",
            " 'पूरा गरेर डाक्टर झाको टेबुलमा पुग्दा, मलाई केहि पनि थाहा छैन भन्ने जवाफ आयो, '\n",
            " 'सबै रिपोर्ट हेरिसकेपछि। अनि मैले त्यहाँ औषधि पसल संचालन गरेर मामाको एक जना '\n",
            " 'साथीको सोर्स फार्सले भोलिपल्ट बुबालाई अस्पताल त भर्ना गराएँ । तर, हाम्रा सबै '\n",
            " 'प्रयासहरु असफल साबित भए । डाक्टर श्रेष्ठ र ती औषधीपसल संचालकले गरेको '\n",
            " 'भबिष्यबाणी अनुसार नै त्यही बर्षको साउन ३० गते मेरो बा हामी सबैलाई छाडेर '\n",
            " 'सदाका लागि बिदा हुनु भयो ।')\n",
            "\n",
            "\n",
            "\n",
            "'summerized'\n",
            "('मलाई राम्रैसंग याद छ भर्खर एसएलसी सकेर बसेको थिएँ मेरो बा रोगले लगभग थलिनु '\n",
            " 'भएको थियो । अनि मैले त्यहाँ औषधि पसल संचालन गरेर मामाको एक जना साथीको सोर्स '\n",
            " 'फार्सले भोलिपल्ट बुबालाई अस्पताल त भर्ना गराएँ । तर हाम्रा सबै प्रयासहरु '\n",
            " 'असफल साबित भए । डाक्टर श्रेष्ठ र ती औषधीपसल संचालकले गरेको भबिष्यबाणी अनुसार '\n",
            " 'नै त्यही बर्षको साउन ३० गते मेरो बा हामी सबैलाई छाडेर सदाका लागि बिदा हुनु '\n",
            " 'भयो ।')\n"
          ],
          "name": "stdout"
        }
      ]
    },
    {
      "cell_type": "code",
      "metadata": {
        "id": "xSuN0wv4jp8b",
        "colab_type": "code",
        "colab": {}
      },
      "source": [
        ""
      ],
      "execution_count": 0,
      "outputs": []
    }
  ]
}